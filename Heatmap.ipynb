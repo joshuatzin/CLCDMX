{
 "cells": [
  {
   "cell_type": "code",
   "execution_count": 45,
   "id": "bdafffaa",
   "metadata": {},
   "outputs": [],
   "source": [
    "import matplotlib.colors as mc # For the legend\n",
    "import matplotlib.pyplot as plt\n",
    "import numpy as np\n",
    "import pandas as pd\n",
    "from matplotlib.cm import ScalarMappable"
   ]
  },
  {
   "cell_type": "code",
   "execution_count": 223,
   "id": "0ee3e883",
   "metadata": {},
   "outputs": [],
   "source": [
    "data = pd.read_excel(r\"C:\\Users\\joc_h\\Desktop\\CU.xlsx\")"
   ]
  },
  {
   "cell_type": "code",
   "execution_count": 224,
   "id": "78a2d342",
   "metadata": {},
   "outputs": [],
   "source": [
    "data[\"Date\"] = pd.to_datetime(data[\"Date\"])"
   ]
  },
  {
   "cell_type": "code",
   "execution_count": 225,
   "id": "0fd8b42c",
   "metadata": {},
   "outputs": [],
   "source": [
    "data.set_index('Date', inplace=True)"
   ]
  },
  {
   "cell_type": "code",
   "execution_count": 226,
   "id": "cfd8cc2d",
   "metadata": {},
   "outputs": [],
   "source": [
    "promedio = data.groupby(pd.Grouper(freq=\"H\")).mean()"
   ]
  },
  {
   "cell_type": "code",
   "execution_count": 227,
   "id": "5e8c3428",
   "metadata": {},
   "outputs": [
    {
     "data": {
      "text/html": [
       "<div>\n",
       "<style scoped>\n",
       "    .dataframe tbody tr th:only-of-type {\n",
       "        vertical-align: middle;\n",
       "    }\n",
       "\n",
       "    .dataframe tbody tr th {\n",
       "        vertical-align: top;\n",
       "    }\n",
       "\n",
       "    .dataframe thead th {\n",
       "        text-align: right;\n",
       "    }\n",
       "</style>\n",
       "<table border=\"1\" class=\"dataframe\">\n",
       "  <thead>\n",
       "    <tr style=\"text-align: right;\">\n",
       "      <th></th>\n",
       "      <th>MAS</th>\n",
       "    </tr>\n",
       "    <tr>\n",
       "      <th>Date</th>\n",
       "      <th></th>\n",
       "    </tr>\n",
       "  </thead>\n",
       "  <tbody>\n",
       "    <tr>\n",
       "      <th>2023-12-01 00:00:00</th>\n",
       "      <td>14.689167</td>\n",
       "    </tr>\n",
       "    <tr>\n",
       "      <th>2023-12-01 01:00:00</th>\n",
       "      <td>15.912500</td>\n",
       "    </tr>\n",
       "    <tr>\n",
       "      <th>2023-12-01 02:00:00</th>\n",
       "      <td>15.369167</td>\n",
       "    </tr>\n",
       "    <tr>\n",
       "      <th>2023-12-01 03:00:00</th>\n",
       "      <td>14.981667</td>\n",
       "    </tr>\n",
       "    <tr>\n",
       "      <th>2023-12-01 04:00:00</th>\n",
       "      <td>15.332500</td>\n",
       "    </tr>\n",
       "    <tr>\n",
       "      <th>...</th>\n",
       "      <td>...</td>\n",
       "    </tr>\n",
       "    <tr>\n",
       "      <th>2023-12-31 19:00:00</th>\n",
       "      <td>16.851667</td>\n",
       "    </tr>\n",
       "    <tr>\n",
       "      <th>2023-12-31 20:00:00</th>\n",
       "      <td>16.850833</td>\n",
       "    </tr>\n",
       "    <tr>\n",
       "      <th>2023-12-31 21:00:00</th>\n",
       "      <td>16.830000</td>\n",
       "    </tr>\n",
       "    <tr>\n",
       "      <th>2023-12-31 22:00:00</th>\n",
       "      <td>16.770000</td>\n",
       "    </tr>\n",
       "    <tr>\n",
       "      <th>2023-12-31 23:00:00</th>\n",
       "      <td>16.777500</td>\n",
       "    </tr>\n",
       "  </tbody>\n",
       "</table>\n",
       "<p>744 rows × 1 columns</p>\n",
       "</div>"
      ],
      "text/plain": [
       "                           MAS\n",
       "Date                          \n",
       "2023-12-01 00:00:00  14.689167\n",
       "2023-12-01 01:00:00  15.912500\n",
       "2023-12-01 02:00:00  15.369167\n",
       "2023-12-01 03:00:00  14.981667\n",
       "2023-12-01 04:00:00  15.332500\n",
       "...                        ...\n",
       "2023-12-31 19:00:00  16.851667\n",
       "2023-12-31 20:00:00  16.850833\n",
       "2023-12-31 21:00:00  16.830000\n",
       "2023-12-31 22:00:00  16.770000\n",
       "2023-12-31 23:00:00  16.777500\n",
       "\n",
       "[744 rows x 1 columns]"
      ]
     },
     "execution_count": 227,
     "metadata": {},
     "output_type": "execute_result"
    }
   ],
   "source": [
    "promedio"
   ]
  },
  {
   "cell_type": "code",
   "execution_count": 228,
   "id": "dcadc4d6",
   "metadata": {},
   "outputs": [],
   "source": [
    "promedio_reset = promedio.reset_index()"
   ]
  },
  {
   "cell_type": "code",
   "execution_count": 229,
   "id": "e614055b",
   "metadata": {},
   "outputs": [
    {
     "data": {
      "text/html": [
       "<div>\n",
       "<style scoped>\n",
       "    .dataframe tbody tr th:only-of-type {\n",
       "        vertical-align: middle;\n",
       "    }\n",
       "\n",
       "    .dataframe tbody tr th {\n",
       "        vertical-align: top;\n",
       "    }\n",
       "\n",
       "    .dataframe thead th {\n",
       "        text-align: right;\n",
       "    }\n",
       "</style>\n",
       "<table border=\"1\" class=\"dataframe\">\n",
       "  <thead>\n",
       "    <tr style=\"text-align: right;\">\n",
       "      <th></th>\n",
       "      <th>Date</th>\n",
       "      <th>MAS</th>\n",
       "    </tr>\n",
       "  </thead>\n",
       "  <tbody>\n",
       "    <tr>\n",
       "      <th>0</th>\n",
       "      <td>2023-12-01 00:00:00</td>\n",
       "      <td>14.689167</td>\n",
       "    </tr>\n",
       "    <tr>\n",
       "      <th>1</th>\n",
       "      <td>2023-12-01 01:00:00</td>\n",
       "      <td>15.912500</td>\n",
       "    </tr>\n",
       "    <tr>\n",
       "      <th>2</th>\n",
       "      <td>2023-12-01 02:00:00</td>\n",
       "      <td>15.369167</td>\n",
       "    </tr>\n",
       "    <tr>\n",
       "      <th>3</th>\n",
       "      <td>2023-12-01 03:00:00</td>\n",
       "      <td>14.981667</td>\n",
       "    </tr>\n",
       "    <tr>\n",
       "      <th>4</th>\n",
       "      <td>2023-12-01 04:00:00</td>\n",
       "      <td>15.332500</td>\n",
       "    </tr>\n",
       "    <tr>\n",
       "      <th>...</th>\n",
       "      <td>...</td>\n",
       "      <td>...</td>\n",
       "    </tr>\n",
       "    <tr>\n",
       "      <th>739</th>\n",
       "      <td>2023-12-31 19:00:00</td>\n",
       "      <td>16.851667</td>\n",
       "    </tr>\n",
       "    <tr>\n",
       "      <th>740</th>\n",
       "      <td>2023-12-31 20:00:00</td>\n",
       "      <td>16.850833</td>\n",
       "    </tr>\n",
       "    <tr>\n",
       "      <th>741</th>\n",
       "      <td>2023-12-31 21:00:00</td>\n",
       "      <td>16.830000</td>\n",
       "    </tr>\n",
       "    <tr>\n",
       "      <th>742</th>\n",
       "      <td>2023-12-31 22:00:00</td>\n",
       "      <td>16.770000</td>\n",
       "    </tr>\n",
       "    <tr>\n",
       "      <th>743</th>\n",
       "      <td>2023-12-31 23:00:00</td>\n",
       "      <td>16.777500</td>\n",
       "    </tr>\n",
       "  </tbody>\n",
       "</table>\n",
       "<p>744 rows × 2 columns</p>\n",
       "</div>"
      ],
      "text/plain": [
       "                   Date        MAS\n",
       "0   2023-12-01 00:00:00  14.689167\n",
       "1   2023-12-01 01:00:00  15.912500\n",
       "2   2023-12-01 02:00:00  15.369167\n",
       "3   2023-12-01 03:00:00  14.981667\n",
       "4   2023-12-01 04:00:00  15.332500\n",
       "..                  ...        ...\n",
       "739 2023-12-31 19:00:00  16.851667\n",
       "740 2023-12-31 20:00:00  16.850833\n",
       "741 2023-12-31 21:00:00  16.830000\n",
       "742 2023-12-31 22:00:00  16.770000\n",
       "743 2023-12-31 23:00:00  16.777500\n",
       "\n",
       "[744 rows x 2 columns]"
      ]
     },
     "execution_count": 229,
     "metadata": {},
     "output_type": "execute_result"
    }
   ],
   "source": [
    "promedio_reset"
   ]
  },
  {
   "cell_type": "code",
   "execution_count": 230,
   "id": "9dccb584",
   "metadata": {},
   "outputs": [],
   "source": [
    "# Subset data\n",
    "subset = promedio_reset[(promedio_reset[\"Date\"].dt.year == 2023) & (promedio_reset[\"Date\"].dt.month == 12)]"
   ]
  },
  {
   "cell_type": "code",
   "execution_count": 231,
   "id": "6a43d434",
   "metadata": {},
   "outputs": [
    {
     "data": {
      "text/html": [
       "<div>\n",
       "<style scoped>\n",
       "    .dataframe tbody tr th:only-of-type {\n",
       "        vertical-align: middle;\n",
       "    }\n",
       "\n",
       "    .dataframe tbody tr th {\n",
       "        vertical-align: top;\n",
       "    }\n",
       "\n",
       "    .dataframe thead th {\n",
       "        text-align: right;\n",
       "    }\n",
       "</style>\n",
       "<table border=\"1\" class=\"dataframe\">\n",
       "  <thead>\n",
       "    <tr style=\"text-align: right;\">\n",
       "      <th></th>\n",
       "      <th>Date</th>\n",
       "      <th>MAS</th>\n",
       "    </tr>\n",
       "  </thead>\n",
       "  <tbody>\n",
       "    <tr>\n",
       "      <th>0</th>\n",
       "      <td>2023-12-01 00:00:00</td>\n",
       "      <td>14.689167</td>\n",
       "    </tr>\n",
       "    <tr>\n",
       "      <th>1</th>\n",
       "      <td>2023-12-01 01:00:00</td>\n",
       "      <td>15.912500</td>\n",
       "    </tr>\n",
       "    <tr>\n",
       "      <th>2</th>\n",
       "      <td>2023-12-01 02:00:00</td>\n",
       "      <td>15.369167</td>\n",
       "    </tr>\n",
       "    <tr>\n",
       "      <th>3</th>\n",
       "      <td>2023-12-01 03:00:00</td>\n",
       "      <td>14.981667</td>\n",
       "    </tr>\n",
       "    <tr>\n",
       "      <th>4</th>\n",
       "      <td>2023-12-01 04:00:00</td>\n",
       "      <td>15.332500</td>\n",
       "    </tr>\n",
       "    <tr>\n",
       "      <th>...</th>\n",
       "      <td>...</td>\n",
       "      <td>...</td>\n",
       "    </tr>\n",
       "    <tr>\n",
       "      <th>739</th>\n",
       "      <td>2023-12-31 19:00:00</td>\n",
       "      <td>16.851667</td>\n",
       "    </tr>\n",
       "    <tr>\n",
       "      <th>740</th>\n",
       "      <td>2023-12-31 20:00:00</td>\n",
       "      <td>16.850833</td>\n",
       "    </tr>\n",
       "    <tr>\n",
       "      <th>741</th>\n",
       "      <td>2023-12-31 21:00:00</td>\n",
       "      <td>16.830000</td>\n",
       "    </tr>\n",
       "    <tr>\n",
       "      <th>742</th>\n",
       "      <td>2023-12-31 22:00:00</td>\n",
       "      <td>16.770000</td>\n",
       "    </tr>\n",
       "    <tr>\n",
       "      <th>743</th>\n",
       "      <td>2023-12-31 23:00:00</td>\n",
       "      <td>16.777500</td>\n",
       "    </tr>\n",
       "  </tbody>\n",
       "</table>\n",
       "<p>744 rows × 2 columns</p>\n",
       "</div>"
      ],
      "text/plain": [
       "                   Date        MAS\n",
       "0   2023-12-01 00:00:00  14.689167\n",
       "1   2023-12-01 01:00:00  15.912500\n",
       "2   2023-12-01 02:00:00  15.369167\n",
       "3   2023-12-01 03:00:00  14.981667\n",
       "4   2023-12-01 04:00:00  15.332500\n",
       "..                  ...        ...\n",
       "739 2023-12-31 19:00:00  16.851667\n",
       "740 2023-12-31 20:00:00  16.850833\n",
       "741 2023-12-31 21:00:00  16.830000\n",
       "742 2023-12-31 22:00:00  16.770000\n",
       "743 2023-12-31 23:00:00  16.777500\n",
       "\n",
       "[744 rows x 2 columns]"
      ]
     },
     "execution_count": 231,
     "metadata": {},
     "output_type": "execute_result"
    }
   ],
   "source": [
    "subset"
   ]
  },
  {
   "cell_type": "code",
   "execution_count": 232,
   "id": "58836e02",
   "metadata": {},
   "outputs": [],
   "source": [
    "# Extract hour, day, and MAS\n",
    "hour = subset[\"Date\"].dt.hour\n",
    "day = subset[\"Date\"].dt.day\n",
    "MAS = subset[\"MAS\"]"
   ]
  },
  {
   "cell_type": "code",
   "execution_count": 234,
   "id": "ba5ec8bc",
   "metadata": {},
   "outputs": [],
   "source": [
    "MAS = MAS.values.reshape(24, len(day.unique()), order=\"F\")"
   ]
  },
  {
   "cell_type": "code",
   "execution_count": 326,
   "id": "da2528a7",
   "metadata": {},
   "outputs": [],
   "source": [
    "MASPLUS = MAS[19:24]"
   ]
  },
  {
   "cell_type": "code",
   "execution_count": 311,
   "id": "f6bdc985",
   "metadata": {},
   "outputs": [],
   "source": [
    "MASPLUS2 = MAS[0:7]"
   ]
  },
  {
   "cell_type": "code",
   "execution_count": 290,
   "id": "73cd0ce8",
   "metadata": {},
   "outputs": [],
   "source": [
    "MASPLUSEXTRA = np.concatenate((MASPLUS, MASPLUS2), axis = 0)"
   ]
  },
  {
   "cell_type": "code",
   "execution_count": 291,
   "id": "30f7f792",
   "metadata": {},
   "outputs": [
    {
     "data": {
      "text/plain": [
       "array([[15.45583333, 14.5275    , 14.83166667, 14.61      , 15.83416667,\n",
       "        14.05833333, 14.015     , 16.73666667, 15.365     , 14.63      ,\n",
       "        15.28833333, 15.74333333, 14.41083333, 14.11083333, 14.15916667,\n",
       "        16.7525    , 16.96916667, 16.8275    , 16.07833333, 14.9625    ,\n",
       "        14.59666667, 15.25666667, 16.135     , 16.41833333, 14.83833333,\n",
       "        14.48833333, 16.9125    , 16.98666667, 16.85833333, 16.58166667,\n",
       "        16.85166667],\n",
       "       [14.88666667, 14.51666667, 14.5075    , 16.40416667, 15.3575    ,\n",
       "        14.1225    , 13.9675    , 16.5275    , 15.05583333, 15.94833333,\n",
       "        16.2775    , 15.81583333, 15.04083333, 14.84416667, 15.06583333,\n",
       "        16.62416667, 17.02666667, 16.8825    , 16.50416667, 15.82916667,\n",
       "        14.50833333, 14.515     , 14.92916667, 16.16583333, 15.69083333,\n",
       "        14.31916667, 16.9575    , 17.01      , 16.81833333, 16.78583333,\n",
       "        16.85083333],\n",
       "       [14.75083333, 14.7825    , 14.64083333, 15.32083333, 14.06666667,\n",
       "        14.15416667, 14.2225    , 16.64833333, 15.7425    , 15.04833333,\n",
       "        16.79416667, 15.0225    , 15.66083333, 14.8675    , 14.73      ,\n",
       "        16.04333333, 17.08666667, 17.00583333, 16.645     , 16.70666667,\n",
       "        15.49416667, 14.35583333, 14.15416667, 14.7475    , 15.9575    ,\n",
       "        14.22166667, 16.98083333, 16.95333333, 14.86333333, 16.49083333,\n",
       "        16.83      ],\n",
       "       [14.92666667, 15.02416667, 14.35583333, 15.56916667, 14.64083333,\n",
       "        14.3275    , 15.2375    , 16.61583333, 16.39833333, 14.49083333,\n",
       "        16.39333333, 16.00416667, 15.87833333, 14.59583333, 14.875     ,\n",
       "        14.57416667, 17.16333333, 17.1425    , 16.755     , 16.93333333,\n",
       "        16.705     , 15.725     , 14.31666667, 13.90166667, 14.5025    ,\n",
       "        14.17583333, 16.71166667, 16.9475    , 16.6125    , 16.4975    ,\n",
       "        16.77      ],\n",
       "       [15.15916667, 14.8575    , 14.06416667, 15.74916667, 14.78166667,\n",
       "        14.42833333, 16.85333333, 15.73916667, 16.71916667, 14.50083333,\n",
       "        16.48916667, 16.45166667, 15.86833333, 14.94666667, 14.3775    ,\n",
       "        14.31083333, 17.24666667, 17.2075    , 16.89666667, 17.045     ,\n",
       "        16.92166667, 16.58583333, 15.70916667, 14.35083333, 13.74583333,\n",
       "        14.27333333, 16.15583333, 16.71833333, 16.525     , 16.72416667,\n",
       "        16.7775    ],\n",
       "       [14.68916667, 15.355     , 15.055     , 14.11583333, 16.72083333,\n",
       "        14.47333333, 14.60916667, 17.06833333, 15.475     , 16.6625    ,\n",
       "        15.13166667, 15.75166667, 16.01083333, 16.26666667, 14.77833333,\n",
       "        14.60333333, 14.12333333, 17.30916667, 17.28      , 16.98583333,\n",
       "        17.05583333, 16.83416667, 16.76916667, 16.2125    , 15.50666667,\n",
       "        14.68083333, 14.34916667, 14.405     , 15.96416667, 15.36083333,\n",
       "        16.69916667],\n",
       "       [15.9125    , 15.87416667, 14.905     , 14.27166667, 16.33583333,\n",
       "        14.39916667, 15.34333333, 16.7325    , 15.82583333, 16.385     ,\n",
       "        16.10666667, 15.05083333, 15.725     , 15.26333333, 15.05166667,\n",
       "        14.51      , 14.05166667, 17.33833333, 17.2375    , 17.01583333,\n",
       "        17.02833333, 16.88916667, 16.85      , 15.91916667, 15.76916667,\n",
       "        15.34583333, 14.4325    , 13.72166667, 14.3775    , 15.11      ,\n",
       "        16.43666667],\n",
       "       [15.36916667, 16.205     , 15.31416667, 14.15083333, 16.55416667,\n",
       "        14.4025    , 15.41916667, 17.4375    , 16.99      , 15.43416667,\n",
       "        15.68083333, 15.61916667, 14.92166667, 15.6775    , 15.12583333,\n",
       "        14.47583333, 14.04166667, 17.3425    , 17.185     , 17.02416667,\n",
       "        16.835     , 16.3875    , 16.92333333, 15.62916667, 16.37      ,\n",
       "        15.9625    , 14.50333333, 14.7025    , 13.94      , 14.6575    ,\n",
       "        15.35583333],\n",
       "       [14.98166667, 15.2225    , 15.0775    , 14.04166667, 15.945     ,\n",
       "        14.19      , 15.1875    , 17.42416667, 17.04583333, 15.67      ,\n",
       "        15.27583333, 15.89833333, 14.80333333, 15.56583333, 15.00333333,\n",
       "        14.50333333, 14.19      , 17.34083333, 17.15333333, 17.03083333,\n",
       "        16.8625    , 16.60333333, 16.89083333, 15.90833333, 15.85083333,\n",
       "        15.59333333, 14.5125    , 16.24833333, 15.045     , 14.54333333,\n",
       "        14.56166667],\n",
       "       [15.3325    , 15.0175    , 15.13083333, 14.18333333, 15.285     ,\n",
       "        14.335     , 14.69166667, 17.45416667, 16.94833333, 15.83166667,\n",
       "        15.47333333, 14.86166667, 14.63166667, 14.5325    , 14.79833333,\n",
       "        14.68333333, 14.16333333, 17.33416667, 17.0075    , 17.00833333,\n",
       "        17.04916667, 16.9425    , 17.03833333, 16.36166667, 15.86583333,\n",
       "        15.825     , 14.47916667, 16.8525    , 16.58166667, 15.49      ,\n",
       "        14.59      ],\n",
       "       [16.07583333, 15.22333333, 14.7275    , 14.1275    , 15.25666667,\n",
       "        14.45916667, 14.78833333, 17.45916667, 16.88166667, 16.86      ,\n",
       "        14.58      , 15.08916667, 14.60083333, 14.18166667, 14.90333333,\n",
       "        16.07666667, 14.53666667, 17.2975    , 16.4725    , 17.03833333,\n",
       "        16.90833333, 16.76166667, 16.5775    , 16.33166667, 16.03083333,\n",
       "        16.28583333, 14.4975    , 17.155     , 16.99916667, 16.6725    ,\n",
       "        16.04      ]])"
      ]
     },
     "execution_count": 291,
     "metadata": {},
     "output_type": "execute_result"
    }
   ],
   "source": [
    "MASPLUSEXTRA"
   ]
  },
  {
   "cell_type": "code",
   "execution_count": 327,
   "id": "71becaca",
   "metadata": {},
   "outputs": [],
   "source": [
    "xgrid = np.arange(day.max() + 1) + 1"
   ]
  },
  {
   "cell_type": "code",
   "execution_count": 328,
   "id": "c406afb1",
   "metadata": {},
   "outputs": [],
   "source": [
    "ygrid = np.arange(6)"
   ]
  },
  {
   "cell_type": "code",
   "execution_count": 331,
   "id": "80c1a6df",
   "metadata": {},
   "outputs": [
    {
     "data": {
      "image/png": "[encoded data removed]",
      "text/plain": [
       "<Figure size 432x288 with 1 Axes>"
      ]
     },
     "metadata": {
      "needs_background": "light"
     },
     "output_type": "display_data"
    }
   ],
   "source": [
    "fig, ax = plt.subplots()\n",
    "ax.pcolormesh(xgrid, ygrid, MASPLUS, cmap='viridis_r')\n",
    "ax.set_frame_on(False)"
   ]
  },
  {
   "cell_type": "code",
   "execution_count": 39,
   "id": "b0c41db6",
   "metadata": {},
   "outputs": [],
   "source": [
    "subset = data[(data[\"date\"].dt.year == 2004) & (data[\"date\"].dt.month == 1)]"
   ]
  },
  {
   "cell_type": "code",
   "execution_count": 40,
   "id": "9430149f",
   "metadata": {},
   "outputs": [],
   "source": [
    "# Extract hour, day, and temperature\n",
    "hour = subset[\"hour\"]\n",
    "day = subset[\"date\"].dt.day\n",
    "temp = subset[\"temp\"]"
   ]
  },
  {
   "cell_type": "code",
   "execution_count": 150,
   "id": "317e6fdb",
   "metadata": {},
   "outputs": [
    {
     "ename": "AttributeError",
     "evalue": "'numpy.ndarray' object has no attribute 'values'",
     "output_type": "error",
     "traceback": [
      "\u001b[1;31m---------------------------------------------------------------------------\u001b[0m",
      "\u001b[1;31mAttributeError\u001b[0m                            Traceback (most recent call last)",
      "\u001b[1;32m~\\AppData\\Local\\Temp/ipykernel_11036/3072145824.py\u001b[0m in \u001b[0;36m<module>\u001b[1;34m\u001b[0m\n\u001b[1;32m----> 1\u001b[1;33m \u001b[0mtemp\u001b[0m \u001b[1;33m=\u001b[0m \u001b[0mtemp\u001b[0m\u001b[1;33m.\u001b[0m\u001b[0mvalues\u001b[0m\u001b[1;33m.\u001b[0m\u001b[0mreshape\u001b[0m\u001b[1;33m(\u001b[0m\u001b[1;36m24\u001b[0m\u001b[1;33m,\u001b[0m \u001b[0mlen\u001b[0m\u001b[1;33m(\u001b[0m\u001b[0mday\u001b[0m\u001b[1;33m.\u001b[0m\u001b[0munique\u001b[0m\u001b[1;33m(\u001b[0m\u001b[1;33m)\u001b[0m\u001b[1;33m)\u001b[0m\u001b[1;33m,\u001b[0m \u001b[0morder\u001b[0m\u001b[1;33m=\u001b[0m\u001b[1;34m\"F\"\u001b[0m\u001b[1;33m)\u001b[0m\u001b[1;33m\u001b[0m\u001b[1;33m\u001b[0m\u001b[0m\n\u001b[0m",
      "\u001b[1;31mAttributeError\u001b[0m: 'numpy.ndarray' object has no attribute 'values'"
     ]
    }
   ],
   "source": [
    "temp = temp.values.reshape(24, len(day.unique()), order=\"F\")"
   ]
  },
  {
   "cell_type": "code",
   "execution_count": 42,
   "id": "e820866a",
   "metadata": {},
   "outputs": [
    {
     "data": {
      "text/plain": [
       "array([[-1.7 ,  0.5 , -0.4 , -5.5 , -6.7 , -4.8 , -3.9 , -4.7 , -0.7 ,\n",
       "        -2.8 , -2.8 , -3.4 , -0.9 , -2.5 ,  0.2 ,  1.3 , -0.5 , -4.  ,\n",
       "         0.  , -2.9 , -4.8 , -5.2 , -2.3 , -2.1 , -5.4 , -6.8 , -2.3 ,\n",
       "        -3.8 , -4.5 , -0.4 , -4.7 ],\n",
       "       [-1.8 ,  0.4 , -0.5 , -5.5 , -6.7 , -5.  , -2.7 , -5.2 , -0.6 ,\n",
       "        -2.5 , -3.3 , -3.4 , -0.1 , -2.7 , -0.7 , -0.7 , -0.7 , -3.2 ,\n",
       "         0.3 , -4.2 , -4.9 , -5.  , -2.3 , -1.6 , -4.4 , -6.7 , -2.2 ,\n",
       "        -4.4 , -5.1 , -1.3 , -5.  ],\n",
       "       [-1.8 ,  0.3 , -0.7 , -6.1 , -7.2 , -5.  , -2.2 , -5.7 , -0.4 ,\n",
       "        -2.8 , -3.  , -3.  , -1.4 , -3.  ,  0.2 , -1.5 , -0.3 , -3.3 ,\n",
       "        -0.3 , -4.6 , -5.4 , -5.2 , -2.  , -1.9 , -4.6 , -7.2 , -2.43,\n",
       "        -4.2 , -5.1 , -2.1 , -4.9 ],\n",
       "       [-2.2 ,  0.3 , -1.  , -6.3 , -7.1 , -5.8 , -1.4 , -5.3 , -0.8 ,\n",
       "        -2.9 , -2.6 , -3.7 , -2.1 , -2.7 ,  3.5 , -3.3 , -0.7 , -3.2 ,\n",
       "        -0.7 , -4.9 , -5.6 , -5.5 , -2.1 , -2.  , -4.1 , -7.6 , -2.6 ,\n",
       "        -3.9 , -5.9 , -2.7 , -4.8 ],\n",
       "       [-3.2 ,  0.3 , -2.9 , -7.  , -7.5 , -6.5 , -1.  , -5.7 , -0.9 ,\n",
       "        -2.6 , -3.2 , -4.4 , -2.9 , -2.2 ,  2.5 , -4.5 , -0.5 , -3.8 ,\n",
       "        -0.9 , -4.9 , -5.7 , -5.9 , -2.3 , -2.2 , -4.4 , -7.7 , -2.6 ,\n",
       "        -3.3 , -7.5 , -3.9 , -4.5 ],\n",
       "       [-2.9 ,  0.3 , -2.9 , -7.  , -7.  , -6.5 , -2.1 , -6.  , -0.8 ,\n",
       "        -2.3 , -4.3 , -4.4 , -2.7 , -2.6 ,  3.9 , -4.3 , -0.7 , -3.4 ,\n",
       "        -2.  , -4.4 , -6.4 , -5.2 , -2.  , -2.4 , -4.1 , -7.7 , -2.5 ,\n",
       "        -3.6 , -6.9 , -4.5 , -5.3 ],\n",
       "       [-3.8 ,  0.3 , -2.4 , -7.4 , -7.6 , -6.3 , -3.1 , -5.2 , -1.  ,\n",
       "        -2.1 , -5.3 , -4.3 , -2.7 , -2.7 ,  6.3 , -3.5 , -0.2 , -2.9 ,\n",
       "        -3.  , -4.6 , -6.7 , -3.4 , -1.7 , -2.5 , -4.  , -7.9 , -2.5 ,\n",
       "        -3.9 , -7.1 , -5.8 , -4.9 ],\n",
       "       [-3.7 ,  0.1 , -3.  , -8.  , -7.3 , -6.8 , -3.8 , -5.1 , -1.  ,\n",
       "        -2.2 , -5.7 , -4.3 , -2.  , -2.9 ,  6.9 , -3.3 , -0.3 , -2.2 ,\n",
       "        -4.3 , -4.6 , -7.  , -3.8 , -1.7 , -2.7 , -4.5 , -7.9 , -2.4 ,\n",
       "        -4.  , -6.8 , -6.3 , -6.5 ],\n",
       "       [-3.6 ,  0.  , -3.4 , -7.6 , -7.6 , -6.6 , -4.1 , -4.4 , -1.2 ,\n",
       "        -2.3 , -5.5 , -4.4 , -1.  , -2.9 ,  6.4 , -3.8 , -0.4 , -1.9 ,\n",
       "        -4.8 , -4.6 , -6.5 , -3.8 , -1.7 , -3.7 , -5.1 , -6.8 , -2.3 ,\n",
       "        -3.2 , -6.3 , -7.9 , -6.2 ],\n",
       "       [-3.5 ,  0.5 , -3.1 , -6.7 , -6.7 , -5.3 , -3.  , -3.1 , -0.9 ,\n",
       "        -0.7 , -3.9 , -3.8 , -0.4 , -2.7 ,  6.7 , -2.6 , -0.6 , -1.4 ,\n",
       "        -4.5 , -3.9 , -6.3 , -3.1 , -1.3 , -4.5 , -3.9 , -5.9 , -1.85,\n",
       "        -1.3 , -4.8 , -7.5 , -5.6 ],\n",
       "       [-1.2 ,  1.1 , -2.7 , -4.9 , -4.1 , -3.3 , -1.8 , -3.  ,  0.2 ,\n",
       "        -0.6 , -1.  , -1.9 ,  1.  ,  0.1 ,  6.2 , -1.1 , -0.2 , -0.4 ,\n",
       "        -1.6 , -1.4 , -2.8 , -1.1 , -0.9 , -2.1 , -2.7 , -3.7 , -1.1 ,\n",
       "         3.4 , -3.5 , -2.1 , -0.9 ],\n",
       "       [ 0.  ,  1.3 , -1.7 , -3.9 , -1.6 , -1.4 , -0.3 , -1.7 ,  0.6 ,\n",
       "         0.6 ,  1.  ,  0.6 ,  3.  ,  1.6 ,  7.2 ,  0.1 , -0.6 , -0.3 ,\n",
       "        -0.3 ,  0.  , -1.8 , -0.7 ,  0.  , -1.5 , -0.9 , -2.3 , -0.28,\n",
       "         3.8 , -2.8 , -1.6 , -0.7 ],\n",
       "       [ 2.  ,  1.9 ,  0.5 ,  0.3 ,  2.5 ,  0.1 ,  2.3 ,  0.  ,  1.5 ,\n",
       "         4.4 ,  2.4 ,  1.7 ,  4.1 ,  4.5 ,  8.2 ,  3.2 , -0.5 , -0.3 ,\n",
       "         2.8 ,  2.7 ,  1.2 ,  1.7 ,  0.6 , -0.4 ,  0.6 , -1.4 ,  0.2 ,\n",
       "         5.1 , -2.  ,  0.7 ,  0.8 ],\n",
       "       [ 1.2 ,  2.9 ,  7.5 ,  2.5 ,  6.9 ,  1.7 ,  4.1 ,  3.2 ,  4.  ,\n",
       "         9.3 ,  4.9 ,  2.6 ,  6.2 , 12.1 ,  8.6 ,  5.3 , -0.2 , -0.2 ,\n",
       "         9.9 ,  6.  ,  6.9 ,  5.1 ,  3.4 ,  3.1 ,  2.1 , -1.1 ,  0.9 ,\n",
       "         7.2 , -1.2 ,  4.  ,  3.4 ],\n",
       "       [ 1.2 ,  3.4 ,  5.6 ,  3.5 ,  8.5 ,  2.  ,  4.5 ,  3.3 ,  5.5 ,\n",
       "        10.4 ,  2.5 ,  5.6 ,  6.4 ,  9.4 ,  8.4 ,  6.5 ,  0.9 ,  0.2 ,\n",
       "         7.5 ,  8.6 ,  6.8 ,  5.6 ,  3.  ,  6.4 ,  3.5 , -0.3 ,  1.7 ,\n",
       "         8.  , -0.3 ,  5.7 ,  5.9 ],\n",
       "       [ 1.2 ,  3.2 ,  4.6 ,  4.8 ,  7.4 ,  1.4 ,  3.9 ,  2.5 ,  6.1 ,\n",
       "         9.2 ,  1.7 ,  2.8 ,  6.4 ,  8.7 ,  8.7 ,  4.4 ,  1.3 ,  0.1 ,\n",
       "         6.3 ,  8.7 ,   nan,  5.6 ,  1.3 ,  5.7 ,  1.6 , -0.2 ,  1.6 ,\n",
       "         8.2 ,  0.  ,  7.2 ,  5.9 ],\n",
       "       [ 0.8 ,  2.5 , -0.2 , -2.  ,  4.1 ,  0.2 ,  1.3 ,  1.4 ,  0.9 ,\n",
       "         2.9 ,  1.2 ,  2.4 ,  4.1 ,  5.  ,  7.1 ,  2.  ,  0.2 ,  0.3 ,\n",
       "         2.8 ,  2.4 ,  2.3 ,  1.5 ,  0.8 ,  0.1 ,  1.4 , -0.6 ,  0.7 ,\n",
       "         5.5 , -0.5 ,  1.3 ,  2.9 ],\n",
       "       [ 0.4 ,  0.5 , -2.6 , -3.7 ,  3.8 , -1.2 , -1.  , -1.9 , -0.8 ,\n",
       "         0.3 , -0.3 ,  1.6 ,  1.6 ,  3.  ,  6.1 , -0.8 , -0.6 ,  0.3 ,\n",
       "        -0.6 ,  0.5 ,  0.2 , -1.4 , -1.1 , -0.9 , -1.1 , -0.8 , -1.6 ,\n",
       "         3.9 , -1.9 , -2.  ,  1.  ],\n",
       "       [ 0.3 ,  0.3 , -2.6 , -4.6 , -0.1 , -1.3 , -2.5 , -2.4 , -1.1 ,\n",
       "        -1.9 , -0.9 ,  0.8 ,  0.5 ,  2.  ,  4.7 , -0.4 , -2.3 ,  0.6 ,\n",
       "        -1.4 , -1.2 , -1.4 , -2.  , -2.4 , -2.  , -2.7 , -1.6 , -1.6 ,\n",
       "         1.1 , -2.8 , -3.  , -1.5 ],\n",
       "       [ 0.4 , -0.6 , -3.8 , -5.1 , -0.8 , -1.6 , -3.2 , -1.9 , -2.  ,\n",
       "        -1.9 , -1.1 , -0.5 , -0.2 ,  1.3 ,  3.8 , -0.7 , -2.5 ,  1.5 ,\n",
       "        -2.8 , -2.1 , -1.5 , -1.5 , -3.7 , -2.8 , -3.4 , -1.7 , -1.  ,\n",
       "        -1.2 ,  1.3 , -4.3 , -0.7 ],\n",
       "       [ 0.3 , -1.2 , -3.8 , -5.7 , -1.4 , -1.7 , -3.6 , -0.9 , -2.4 ,\n",
       "        -2.6 , -1.2 , -1.7 , -1.2 ,  1.4 ,  4.2 , -0.9 , -2.9 ,  0.7 ,\n",
       "        -3.4 , -1.7 , -3.  , -2.3 , -3.9 , -3.4 , -4.5 , -2.3 , -1.4 ,\n",
       "        -2.8 ,  1.2 , -5.6 , -0.2 ],\n",
       "       [ 0.5 , -0.8 , -4.1 , -6.  , -2.6 , -2.1 , -4.3 , -0.6 , -2.5 ,\n",
       "        -3.1 , -1.4 , -1.2 , -1.6 ,  1.6 ,  2.8 , -0.8 , -4.2 ,  0.6 ,\n",
       "        -3.8 , -3.1 , -3.6 , -3.4 , -3.6 , -3.5 , -5.3 , -2.3 , -2.7 ,\n",
       "        -2.5 ,  1.1 , -5.7 ,  0.  ],\n",
       "       [ 0.3 , -0.2 , -4.6 , -6.3 , -2.9 , -1.7 , -4.9 , -0.5 , -1.9 ,\n",
       "        -3.5 , -2.7 , -1.7 , -1.9 ,  1.8 ,  0.9 , -0.7 , -4.1 ,  0.  ,\n",
       "        -3.4 , -3.9 , -3.6 , -3.5 , -2.35, -3.6 , -5.8 , -2.1 , -2.7 ,\n",
       "        -2.4 ,  0.3 , -6.4 ,  0.  ],\n",
       "       [ 0.4 , -0.5 , -4.8 , -6.4 , -4.  , -2.7 , -4.6 , -0.7 , -2.5 ,\n",
       "        -3.2 , -3.7 , -1.  , -2.2 ,  0.9 ,  1.9 , -0.6 , -4.3 , -0.7 ,\n",
       "        -3.3 , -4.4 , -3.2 , -2.1 , -2.2 , -4.4 , -6.2 , -2.2 , -2.  ,\n",
       "        -3.5 ,  0.5 , -4.6 ,  0.  ]])"
      ]
     },
     "execution_count": 42,
     "metadata": {},
     "output_type": "execute_result"
    }
   ],
   "source": [
    "temp"
   ]
  },
  {
   "cell_type": "code",
   "execution_count": 43,
   "id": "89e356ac",
   "metadata": {},
   "outputs": [],
   "source": [
    "xgrid = np.arange(day.max() + 1) + 1\n",
    "\n",
    "# Hours start at 0, length 2\n",
    "ygrid = np.arange(25)"
   ]
  },
  {
   "cell_type": "code",
   "execution_count": 44,
   "id": "849ce1b4",
   "metadata": {},
   "outputs": [
    {
     "data": {
      "image/png": "[encoded data removed]",
      "text/plain": [
       "<Figure size 432x288 with 1 Axes>"
      ]
     },
     "metadata": {
      "needs_background": "light"
     },
     "output_type": "display_data"
    }
   ],
   "source": [
    "fig, ax = plt.subplots()\n",
    "ax.pcolormesh(xgrid, ygrid, temp)\n",
    "ax.set_frame_on(False) # remove all spines"
   ]
  },
  {
   "cell_type": "code",
   "execution_count": null,
   "id": "ce925072",
   "metadata": {},
   "outputs": [],
   "source": []
  }
 ],
 "metadata": {
  "kernelspec": {
   "display_name": "Python 3 (ipykernel)",
   "language": "python",
   "name": "python3"
  },
  "language_info": {
   "codemirror_mode": {
    "name": "ipython",
    "version": 3
   },
   "file_extension": ".py",
   "mimetype": "text/x-python",
   "name": "python",
   "nbconvert_exporter": "python",
   "pygments_lexer": "ipython3",
   "version": "3.9.7"
  }
 },
 "nbformat": 4,
 "nbformat_minor": 5
}
